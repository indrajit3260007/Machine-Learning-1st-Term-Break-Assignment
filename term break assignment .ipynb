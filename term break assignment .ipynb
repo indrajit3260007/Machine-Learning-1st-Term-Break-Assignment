{
 "cells": [
  {
   "cell_type": "code",
   "execution_count": null,
   "metadata": {},
   "outputs": [],
   "source": [
    "import pandas as pd\n",
    "import numpy as np\n",
    "import matplotlib.pyplot as plt\n",
    "from sklearn.linear_model import LinearRegression\n",
    "from scipy.stats import pearsonr\n",
    "import statsmodels.api as stm\n",
    "from sklearn.preprocessing import OneHotEncoder\n",
    "import seaborn as sns\n",
    "import folium\n",
    "import matplotlib\n",
    "import os\n",
    "os.environ[\"PROJ_LIB\"] = \"C:\\\\Users\\\\singh\\\\anaconda3\\\\Library\\\\share\";\n",
    "from mpl_toolkits.basemap import Basemap\n",
    "from sklearn.metrics import r2_score\n",
    "from sklearn.metrics import mean_squared_error"
   ]
  },
  {
   "cell_type": "code",
   "execution_count": null,
   "metadata": {},
   "outputs": [],
   "source": [
    "data = pd.read_csv(r'D:\\study\\gourabsir\\assignment\\wk3_kc_house_train_data.csv')\n",
    "val_data = pd.read_csv(r'D:\\study\\gourabsir\\assignment\\wk3_kc_house_valid_data.csv')"
   ]
  },
  {
   "cell_type": "code",
   "execution_count": null,
   "metadata": {},
   "outputs": [],
   "source": [
    "data.corr()"
   ]
  },
  {
   "cell_type": "code",
   "execution_count": null,
   "metadata": {},
   "outputs": [],
   "source": [
    "data.info()"
   ]
  },
  {
   "cell_type": "code",
   "execution_count": null,
   "metadata": {},
   "outputs": [],
   "source": [
    "data.describe()"
   ]
  },
  {
   "cell_type": "code",
   "execution_count": null,
   "metadata": {},
   "outputs": [],
   "source": [
    "# dropping columns\n",
    "data.drop(['sqft_living15','sqft_lot15'],axis=1,inplace=True)"
   ]
  },
  {
   "cell_type": "code",
   "execution_count": null,
   "metadata": {},
   "outputs": [],
   "source": [
    "data.head()"
   ]
  },
  {
   "cell_type": "code",
   "execution_count": null,
   "metadata": {},
   "outputs": [],
   "source": [
    "data.price.describe()"
   ]
  },
  {
   "cell_type": "code",
   "execution_count": null,
   "metadata": {},
   "outputs": [],
   "source": [
    "data.hist(column=\"price\",\n",
    "         grid = True,\n",
    "         figsize =(10,7),\n",
    "         color = \"red\",\n",
    "         edgecolor = \"black\",\n",
    "         bins = 20)\n",
    "plt.title('Histogram for Price',fontsize=30)\n"
   ]
  },
  {
   "cell_type": "code",
   "execution_count": null,
   "metadata": {},
   "outputs": [],
   "source": [
    "data.boxplot(column=\"price\",\n",
    "            grid = False,\n",
    "            figsize = (8,6),\n",
    "            vert = False,\n",
    "            notch = True)\n",
    "plt.title('Checking for outliers',fontsize=20)"
   ]
  },
  {
   "cell_type": "code",
   "execution_count": null,
   "metadata": {},
   "outputs": [],
   "source": [
    "data['log_price'] = np.log(data['price'])"
   ]
  },
  {
   "cell_type": "code",
   "execution_count": null,
   "metadata": {},
   "outputs": [],
   "source": [
    "data.hist(column=\"log_price\",\n",
    "         grid = True,\n",
    "         figsize =(10,7),\n",
    "         color = \"red\",\n",
    "         edgecolor = \"black\",\n",
    "         bins = 20)\n",
    "plt.title('Histogram for Log of Price',fontsize=30)"
   ]
  },
  {
   "cell_type": "code",
   "execution_count": null,
   "metadata": {},
   "outputs": [],
   "source": [
    "data.boxplot(column=\"log_price\",\n",
    "            grid = False,\n",
    "            figsize = (8,6),\n",
    "            vert = False,\n",
    "            notch = True)\n",
    "plt.title('Outliers on transformed Data',fontsize=20)"
   ]
  },
  {
   "cell_type": "code",
   "execution_count": null,
   "metadata": {},
   "outputs": [],
   "source": [
    "#Upper and Lower benchmarks for outliers of Price\n",
    "\n",
    "iqr = data.price.quantile(0.75) - data.price.quantile(0.25)\n",
    "ub = data.price.quantile(0.75) + 1.5*iqr      # Q1 - 1.5*IQR\n",
    "lb = data.price.quantile(0.25) - 1.5*iqr      # Q3 + 1.5*IQR\n",
    "\n",
    "print(iqr,lb, ub)"
   ]
  },
  {
   "cell_type": "code",
   "execution_count": null,
   "metadata": {},
   "outputs": [],
   "source": [
    "sum(data.price > ub)\n"
   ]
  },
  {
   "cell_type": "code",
   "execution_count": null,
   "metadata": {},
   "outputs": [],
   "source": [
    "sum(data.price < lb)"
   ]
  },
  {
   "cell_type": "code",
   "execution_count": null,
   "metadata": {},
   "outputs": [],
   "source": [
    "#Upper and Lower benchmarks for outliers of transformed data\n",
    "\n",
    "iqr = data.log_price.quantile(0.75) - data.log_price.quantile(0.25)\n",
    "ub = data.log_price.quantile(0.75) + 1.5*iqr      # Q1 - 1.5*IQR\n",
    "lb = data.log_price.quantile(0.25) - 1.5*iqr      # Q3 + 1.5*IQR\n",
    "\n",
    "print(iqr,lb, ub)"
   ]
  },
  {
   "cell_type": "code",
   "execution_count": null,
   "metadata": {},
   "outputs": [],
   "source": [
    "sum(data.log_price > ub)"
   ]
  },
  {
   "cell_type": "code",
   "execution_count": null,
   "metadata": {},
   "outputs": [],
   "source": [
    "sum(data.log_price < lb)"
   ]
  },
  {
   "cell_type": "markdown",
   "metadata": {},
   "source": [
    "### Bedrooms"
   ]
  },
  {
   "cell_type": "code",
   "execution_count": null,
   "metadata": {},
   "outputs": [],
   "source": [
    "tab = pd.crosstab(data.bedrooms, columns=\"counts\")\n",
    "tab"
   ]
  },
  {
   "cell_type": "code",
   "execution_count": null,
   "metadata": {},
   "outputs": [],
   "source": [
    "#Bedrooms = 33 is anamoly\n",
    "data.drop(data[data['bedrooms'] == 33].index, inplace = True) "
   ]
  },
  {
   "cell_type": "code",
   "execution_count": null,
   "metadata": {},
   "outputs": [],
   "source": [
    "data['bedrooms'].value_counts().head(5).plot(kind='barh',figsize=(30,10))\n",
    "plt.xlabel(\"Count of houses\", fontsize=28)\n",
    "plt.ylabel(\"No. of Bedrooms\", fontsize=28)\n",
    "plt.title(\"number of houses as per bedrooms\", fontsize=40)"
   ]
  },
  {
   "cell_type": "code",
   "execution_count": null,
   "metadata": {},
   "outputs": [],
   "source": [
    "plt.figure(figsize=(10,10))\n",
    "sns.boxplot( x=data[\"bedrooms\"], y=data[\"price\"])\n",
    "plt.title('Distribution of Price With Bedrooms',fontsize=20)"
   ]
  },
  {
   "cell_type": "code",
   "execution_count": null,
   "metadata": {},
   "outputs": [],
   "source": [
    "pearsonr(data.price, data.bedrooms)[0]"
   ]
  },
  {
   "cell_type": "code",
   "execution_count": null,
   "metadata": {},
   "outputs": [],
   "source": [
    "data[[\"price\",\"bedrooms\"]].groupby([\"bedrooms\"]).mean()"
   ]
  },
  {
   "cell_type": "code",
   "execution_count": null,
   "metadata": {},
   "outputs": [],
   "source": [
    "data[[\"price\",\"bedrooms\"]].groupby([\"bedrooms\"]).mean().plot(kind='barh',figsize=(30,10))\n",
    "plt.xlabel(\"Price\", fontsize=28)\n",
    "plt.ylabel(\"No. of Bedrooms\", fontsize=28)\n",
    "plt.title(\"Average Price For Bedrooms\", fontsize=40)\n",
    "plt.tick_params(axis='both', which='major', labelsize=20)"
   ]
  },
  {
   "cell_type": "markdown",
   "metadata": {},
   "source": [
    "### Bathrooms"
   ]
  },
  {
   "cell_type": "code",
   "execution_count": null,
   "metadata": {},
   "outputs": [],
   "source": [
    "tab = pd.crosstab(data.bathrooms, columns=\"counts\")\n",
    "tab"
   ]
  },
  {
   "cell_type": "code",
   "execution_count": null,
   "metadata": {},
   "outputs": [],
   "source": [
    "pearsonr(data.price, data.bathrooms)[0]"
   ]
  },
  {
   "cell_type": "code",
   "execution_count": null,
   "metadata": {},
   "outputs": [],
   "source": [
    "data[[\"price\",\"bathrooms\"]].groupby([\"bathrooms\"]).mean()"
   ]
  },
  {
   "cell_type": "code",
   "execution_count": null,
   "metadata": {},
   "outputs": [],
   "source": [
    "data[[\"price\",\"bathrooms\"]].groupby([\"bathrooms\"]).mean().plot(kind='barh',figsize=(30,10))\n",
    "plt.xlabel(\"Price\", fontsize=28)\n",
    "plt.ylabel(\"No. of Bathrooms\", fontsize=28)\n",
    "plt.title(\"Mean price as per bathrooms\", fontsize=40)\n",
    "plt.tick_params(axis='both', which='major', labelsize=15)"
   ]
  },
  {
   "cell_type": "code",
   "execution_count": null,
   "metadata": {},
   "outputs": [],
   "source": [
    "plt.figure(figsize=(10,10))\n",
    "sns.boxplot( x=data[\"bathrooms\"], y=data[\"price\"])\n",
    "plt.title('Distribution of Price With Bathrooms',fontsize=20)"
   ]
  },
  {
   "cell_type": "markdown",
   "metadata": {},
   "source": [
    "### sqft_living"
   ]
  },
  {
   "cell_type": "code",
   "execution_count": null,
   "metadata": {},
   "outputs": [],
   "source": [
    "data.hist(column=\"sqft_living\",\n",
    "         grid = True,\n",
    "         figsize =(8,5),\n",
    "         color = \"red\",\n",
    "         edgecolor = \"black\",\n",
    "         bins = 20)\n",
    "plt.title('Histogram for sqft_living',fontsize=20)"
   ]
  },
  {
   "cell_type": "code",
   "execution_count": null,
   "metadata": {},
   "outputs": [],
   "source": [
    "data['log_sqft_living'] = np.log(data['sqft_living'])"
   ]
  },
  {
   "cell_type": "code",
   "execution_count": null,
   "metadata": {},
   "outputs": [],
   "source": [
    "data.hist(column=\"log_sqft_living\",\n",
    "         grid = True,\n",
    "         figsize =(8,5),\n",
    "         color = \"red\",\n",
    "         edgecolor = \"black\",\n",
    "         bins = 20)\n",
    "plt.title('Histogram for transformed sqft_living',fontsize=20)"
   ]
  },
  {
   "cell_type": "code",
   "execution_count": null,
   "metadata": {},
   "outputs": [],
   "source": [
    "data.boxplot(column=\"sqft_living\",\n",
    "            grid = False,\n",
    "            figsize = (8,4),\n",
    "            vert = False,\n",
    "            notch = True)\n",
    "plt.title('Box Plot of sqft_living',fontsize=20)"
   ]
  },
  {
   "cell_type": "code",
   "execution_count": null,
   "metadata": {},
   "outputs": [],
   "source": [
    "data.boxplot(column=\"log_sqft_living\",\n",
    "            grid = False,\n",
    "            figsize = (8,4),\n",
    "            vert = False,\n",
    "            notch = True)\n",
    "plt.title('Box Plot of transformed sqft_living',fontsize=20)"
   ]
  },
  {
   "cell_type": "code",
   "execution_count": null,
   "metadata": {},
   "outputs": [],
   "source": [
    "pearsonr(data.price, data.sqft_living)[0]"
   ]
  },
  {
   "cell_type": "code",
   "execution_count": null,
   "metadata": {},
   "outputs": [],
   "source": [
    "data[[\"price\",\"sqft_living\"]].describe()"
   ]
  },
  {
   "cell_type": "code",
   "execution_count": null,
   "metadata": {},
   "outputs": [],
   "source": [
    "plt.figure(figsize=(10,6))\n",
    "sns.regplot(x=data[\"sqft_living\"], y=data[\"price\"],fit_reg=False)\n",
    "plt.title('Relation Between Price and sqft_living',fontsize=20)"
   ]
  },
  {
   "cell_type": "code",
   "execution_count": null,
   "metadata": {},
   "outputs": [],
   "source": [
    "#Upper and Lower benchmarks for outliers\n",
    "\n",
    "iqr = data.sqft_living.quantile(0.75) - data.sqft_living.quantile(0.25)\n",
    "ub = data.sqft_living.quantile(0.75) + 1.5*iqr      # Q1 - 1.5*IQR\n",
    "lb = data.sqft_living.quantile(0.25) - 1.5*iqr      # Q3 + 1.5*IQR\n",
    "\n",
    "print(iqr,lb, ub)"
   ]
  },
  {
   "cell_type": "code",
   "execution_count": null,
   "metadata": {},
   "outputs": [],
   "source": [
    "sum(data.sqft_living > ub)\n"
   ]
  },
  {
   "cell_type": "code",
   "execution_count": null,
   "metadata": {},
   "outputs": [],
   "source": [
    "sum(data.sqft_living < lb)"
   ]
  },
  {
   "cell_type": "code",
   "execution_count": null,
   "metadata": {},
   "outputs": [],
   "source": [
    "#Upper and Lower benchmarks for outliers\n",
    "\n",
    "iqr = data.log_sqft_living.quantile(0.75) - data.log_sqft_living.quantile(0.25)\n",
    "ub = data.log_sqft_living.quantile(0.75) + 1.5*iqr      # Q1 - 1.5*IQR\n",
    "lb = data.log_sqft_living.quantile(0.25) - 1.5*iqr      # Q3 + 1.5*IQR\n",
    "\n",
    "print(iqr,lb, ub)"
   ]
  },
  {
   "cell_type": "code",
   "execution_count": null,
   "metadata": {},
   "outputs": [],
   "source": [
    "sum(data.log_sqft_living > ub)\n"
   ]
  },
  {
   "cell_type": "code",
   "execution_count": null,
   "metadata": {},
   "outputs": [],
   "source": [
    "sum(data.log_sqft_living < lb)"
   ]
  },
  {
   "cell_type": "markdown",
   "metadata": {},
   "source": [
    "### sqft_lot"
   ]
  },
  {
   "cell_type": "code",
   "execution_count": null,
   "metadata": {},
   "outputs": [],
   "source": [
    "pearsonr(data.price, data.sqft_lot)[0]"
   ]
  },
  {
   "cell_type": "code",
   "execution_count": null,
   "metadata": {},
   "outputs": [],
   "source": [
    "plt.figure(figsize=(10,6))\n",
    "sns.regplot(x=data[\"sqft_lot\"], y=data[\"price\"],fit_reg=False)\n",
    "plt.title('Relation Between Price and sqft_lot',fontsize=20)"
   ]
  },
  {
   "cell_type": "markdown",
   "metadata": {},
   "source": [
    "### Floors"
   ]
  },
  {
   "cell_type": "code",
   "execution_count": null,
   "metadata": {},
   "outputs": [],
   "source": [
    "data[[\"price\",\"floors\"]].groupby([\"floors\"]).mean()"
   ]
  },
  {
   "cell_type": "code",
   "execution_count": null,
   "metadata": {},
   "outputs": [],
   "source": [
    "data[[\"price\",\"floors\"]].groupby([\"floors\"]).mean().plot(kind='barh',figsize=(30,5))\n",
    "plt.xlabel(\"Price\", fontsize=28)\n",
    "plt.ylabel(\"Floors\", fontsize=28)\n",
    "plt.title(\"Mean price as per floors\", fontsize=40)\n",
    "plt.tick_params(axis='both', which='major', labelsize=20)"
   ]
  },
  {
   "cell_type": "code",
   "execution_count": null,
   "metadata": {},
   "outputs": [],
   "source": [
    "plt.figure(figsize=(6,6))\n",
    "sns.boxplot( x=data[\"floors\"], y=data[\"price\"])\n",
    "plt.xlabel(\"Floors\", fontsize=15)\n",
    "plt.ylabel(\"Price\", fontsize=15)\n",
    "plt.title(\"Box Plot of price as per floors\", fontsize=20)"
   ]
  },
  {
   "cell_type": "code",
   "execution_count": null,
   "metadata": {},
   "outputs": [],
   "source": [
    "pearsonr(data.price, data.floors)[0]"
   ]
  },
  {
   "cell_type": "code",
   "execution_count": null,
   "metadata": {},
   "outputs": [],
   "source": [
    "tab = pd.crosstab(data.floors, columns=\"counts\")\n",
    "tab"
   ]
  },
  {
   "cell_type": "markdown",
   "metadata": {},
   "source": [
    "### Waterfront"
   ]
  },
  {
   "cell_type": "code",
   "execution_count": null,
   "metadata": {},
   "outputs": [],
   "source": [
    "data[[\"price\",\"waterfront\"]].groupby([\"waterfront\"]).mean()"
   ]
  },
  {
   "cell_type": "code",
   "execution_count": null,
   "metadata": {},
   "outputs": [],
   "source": [
    "plt.figure(figsize=(6,6))\n",
    "sns.boxplot( x=data[\"waterfront\"], y=data[\"price\"])\n",
    "plt.xlabel(\"Waterfront\", fontsize=15)\n",
    "plt.ylabel(\"Price\", fontsize=15)\n",
    "plt.title(\"Box Plot of price as per Waterfront\", fontsize=20)"
   ]
  },
  {
   "cell_type": "code",
   "execution_count": null,
   "metadata": {},
   "outputs": [],
   "source": [
    "tab = pd.crosstab(data.waterfront, columns=\"counts\")\n",
    "tab"
   ]
  },
  {
   "cell_type": "code",
   "execution_count": null,
   "metadata": {},
   "outputs": [],
   "source": [
    "data[data.waterfront==0].boxplot(column=\"price\",\n",
    "            grid = False,\n",
    "            figsize = (8,6),\n",
    "            vert = False,\n",
    "            notch = True)"
   ]
  },
  {
   "cell_type": "code",
   "execution_count": null,
   "metadata": {},
   "outputs": [],
   "source": [
    "data[data.waterfront==1].boxplot(column=\"price\",\n",
    "            grid = False,\n",
    "            figsize = (8,6),\n",
    "            vert = False,\n",
    "            notch = True)"
   ]
  },
  {
   "cell_type": "markdown",
   "metadata": {},
   "source": [
    "### View"
   ]
  },
  {
   "cell_type": "code",
   "execution_count": null,
   "metadata": {},
   "outputs": [],
   "source": [
    "tab = pd.crosstab(data.view, columns=\"counts\")\n",
    "tab"
   ]
  },
  {
   "cell_type": "code",
   "execution_count": null,
   "metadata": {},
   "outputs": [],
   "source": [
    "pearsonr(data.price, data.view)[0]"
   ]
  },
  {
   "cell_type": "code",
   "execution_count": null,
   "metadata": {},
   "outputs": [],
   "source": [
    "data[[\"price\",\"view\"]].groupby([\"view\"]).mean()"
   ]
  },
  {
   "cell_type": "code",
   "execution_count": null,
   "metadata": {},
   "outputs": [],
   "source": [
    "data[[\"price\",\"view\"]].groupby([\"view\"]).mean().plot(kind='barh',figsize=(30,8),edgecolor='black')\n",
    "plt.xlabel(\"Price\", fontsize=28)\n",
    "plt.ylabel(\"View\", fontsize=28)\n",
    "plt.title(\"Mean price as per view\", fontsize=40)\n",
    "plt.tick_params(axis='both', which='major', labelsize=20)"
   ]
  },
  {
   "cell_type": "markdown",
   "metadata": {},
   "source": [
    "### Condition"
   ]
  },
  {
   "cell_type": "code",
   "execution_count": null,
   "metadata": {},
   "outputs": [],
   "source": [
    "tab = pd.crosstab(data.condition, columns=\"counts\")\n",
    "tab"
   ]
  },
  {
   "cell_type": "code",
   "execution_count": null,
   "metadata": {},
   "outputs": [],
   "source": [
    "data[[\"price\",\"condition\"]].groupby([\"condition\"]).mean()"
   ]
  },
  {
   "cell_type": "code",
   "execution_count": null,
   "metadata": {},
   "outputs": [],
   "source": [
    "pearsonr(data.price, data.condition)[0]"
   ]
  },
  {
   "cell_type": "code",
   "execution_count": null,
   "metadata": {},
   "outputs": [],
   "source": [
    "#for condition we will check with trial and error as we cannot see any relation from the corr directly. We can do one\n",
    "#hot encoding and check if it is helping in improving the performance of the model"
   ]
  },
  {
   "cell_type": "code",
   "execution_count": null,
   "metadata": {},
   "outputs": [],
   "source": [
    "plt.figure(figsize=(6,6))\n",
    "sns.boxplot( x=data[\"condition\"], y=data[\"price\"])\n",
    "plt.xlabel(\"Condition\", fontsize=15)\n",
    "plt.ylabel(\"Price\", fontsize=15)\n",
    "plt.title(\"Box Plot of price as per Condition\", fontsize=20)"
   ]
  },
  {
   "cell_type": "code",
   "execution_count": null,
   "metadata": {},
   "outputs": [],
   "source": [
    "# Delete this as i was trying to check the relation between grade and view\n",
    "table = pd.crosstab(data.view, columns=data.grade).apply(lambda r: r/r.sum()*100, axis=1)\n",
    "table"
   ]
  },
  {
   "cell_type": "markdown",
   "metadata": {},
   "source": [
    "### Grade"
   ]
  },
  {
   "cell_type": "code",
   "execution_count": null,
   "metadata": {},
   "outputs": [],
   "source": [
    "tab = pd.crosstab(data.grade, columns=\"counts\")\n",
    "tab"
   ]
  },
  {
   "cell_type": "code",
   "execution_count": null,
   "metadata": {},
   "outputs": [],
   "source": [
    "pearsonr(data.price, data.grade)[0]"
   ]
  },
  {
   "cell_type": "code",
   "execution_count": null,
   "metadata": {},
   "outputs": [],
   "source": [
    "data[[\"price\",\"grade\"]].groupby([\"grade\"]).mean().plot(kind='barh',figsize=(30,10),edgecolor='black')\n",
    "plt.xlabel(\"Price\", fontsize=28)\n",
    "plt.ylabel(\"Grade\", fontsize=28)\n",
    "plt.title(\"Mean price as per grade\", fontsize=40)\n",
    "plt.tick_params(axis='both', which='major', labelsize=20)"
   ]
  },
  {
   "cell_type": "markdown",
   "metadata": {},
   "source": [
    "### sqft_above"
   ]
  },
  {
   "cell_type": "code",
   "execution_count": null,
   "metadata": {},
   "outputs": [],
   "source": [
    "plt.figure(figsize=(6,6))\n",
    "sns.regplot(x=data[\"sqft_above\"], y=data[\"price\"],fit_reg=False)\n",
    "plt.title('Relation Between Price and sqft_above',fontsize=20)"
   ]
  },
  {
   "cell_type": "code",
   "execution_count": null,
   "metadata": {},
   "outputs": [],
   "source": [
    "pearsonr(data.price, data.sqft_above)[0]"
   ]
  },
  {
   "cell_type": "markdown",
   "metadata": {},
   "source": [
    "### sqft_basement"
   ]
  },
  {
   "cell_type": "code",
   "execution_count": null,
   "metadata": {},
   "outputs": [],
   "source": [
    "pearsonr(data.price, data.sqft_basement)[0]"
   ]
  },
  {
   "cell_type": "code",
   "execution_count": null,
   "metadata": {},
   "outputs": [],
   "source": [
    "plt.figure(figsize=(6,6))\n",
    "sns.regplot(x=data[\"sqft_basement\"], y=data[\"price\"],fit_reg=False)\n",
    "plt.title('Relation Between Price and sqft_basement',fontsize=20)"
   ]
  },
  {
   "cell_type": "markdown",
   "metadata": {},
   "source": [
    "### year built"
   ]
  },
  {
   "cell_type": "code",
   "execution_count": null,
   "metadata": {},
   "outputs": [],
   "source": [
    "plt.figure(figsize=(12,8))\n",
    "plt.plot(data[[\"price\",\"yr_built\"]].groupby([\"yr_built\"]).mean())\n",
    "plt.xlabel(\"Year Built\", fontsize=18)\n",
    "plt.ylabel(\"Price\", fontsize=18)\n",
    "plt.title(\"Variation of price as per Year built\", fontsize=20)\n",
    "plt.show()"
   ]
  },
  {
   "cell_type": "code",
   "execution_count": null,
   "metadata": {},
   "outputs": [],
   "source": [
    "# creating column \n",
    "data[\"m_year\"] = np.where(data.yr_renovated !=0, data.yr_renovated, data.yr_built)"
   ]
  },
  {
   "cell_type": "code",
   "execution_count": null,
   "metadata": {},
   "outputs": [],
   "source": [
    "plt.plot(data[[\"price\",\"m_year\"]].groupby([\"m_year\"]).mean())\n",
    "plt.xlabel(\"Custom Year\", fontsize=18)\n",
    "plt.ylabel(\"Price\", fontsize=18)\n",
    "plt.title(\"Variation of price as per custom Year\", fontsize=20)\n",
    "plt.show()\n",
    "plt.show()"
   ]
  },
  {
   "cell_type": "code",
   "execution_count": null,
   "metadata": {},
   "outputs": [],
   "source": [
    "plt.plot(data[[\"price\",\"m_year\"]].groupby([\"m_year\"]).mean())\n",
    "plt.show()"
   ]
  },
  {
   "cell_type": "code",
   "execution_count": null,
   "metadata": {},
   "outputs": [],
   "source": [
    "data['year_renovated']=np.where(data.yr_renovated !=0, 1, 0)"
   ]
  },
  {
   "cell_type": "code",
   "execution_count": null,
   "metadata": {},
   "outputs": [],
   "source": [
    "tab = pd.crosstab(data.year_renovated, columns=\"counts\")\n",
    "tab"
   ]
  },
  {
   "cell_type": "code",
   "execution_count": null,
   "metadata": {},
   "outputs": [],
   "source": [
    "data[[\"price\",\"year_renovated\"]].groupby([\"year_renovated\"]).mean()"
   ]
  },
  {
   "cell_type": "code",
   "execution_count": null,
   "metadata": {},
   "outputs": [],
   "source": [
    "plt.figure(figsize=(6,6))\n",
    "sns.boxplot( x=data[\"year_renovated\"], y=data[\"price\"])\n",
    "plt.xlabel(\"year_renovated\", fontsize=15)\n",
    "plt.ylabel(\"Price\", fontsize=15)\n",
    "plt.title(\"Box Plot of price as per year_renovated\", fontsize=20)"
   ]
  },
  {
   "cell_type": "markdown",
   "metadata": {},
   "source": [
    "### Lat and long"
   ]
  },
  {
   "cell_type": "code",
   "execution_count": null,
   "metadata": {},
   "outputs": [],
   "source": [
    "map_data = pd.DataFrame()\n",
    "map_data['lat']=data.groupby(['lat','long']).size().reset_index().rename(columns={0:'count'}).lat\n",
    "map_data['long']=data.groupby(['lat','long']).size().reset_index().rename(columns={0:'count'}).long\n",
    "map_data['av_price']=data[[\"price\",\"lat\",\"long\"]].groupby([\"lat\",\"long\"]).mean().values"
   ]
  },
  {
   "cell_type": "code",
   "execution_count": null,
   "metadata": {},
   "outputs": [],
   "source": [
    "lat=map_data['lat'].values\n",
    "lon=map_data['long'].values\n",
    "population = map_data['av_price'].values"
   ]
  },
  {
   "cell_type": "code",
   "execution_count": null,
   "metadata": {},
   "outputs": [],
   "source": [
    "#use for map only\n",
    "%matplotlib notebook\n",
    "import mpld3\n",
    "mpld3.enable_notebook()"
   ]
  },
  {
   "cell_type": "code",
   "execution_count": null,
   "metadata": {
    "scrolled": false
   },
   "outputs": [],
   "source": [
    "#47.128597, -122.864008\n",
    "fig = plt.figure(figsize=(10,8))\n",
    "m = Basemap(projection='lcc', resolution='h', \n",
    "            lat_0=47.5208, lon_0=-122.393,\n",
    "            width=1.05E6, height=1.2E6,llcrnrlon=-122.864008,llcrnrlat=47.128597,urcrnrlon=-121.803193,urcrnrlat=47.982500)\n",
    "m.shadedrelief()\n",
    "# scatter city data, with c reflecting population\n",
    "m.scatter(lon,lat, latlon=True,\n",
    "          c=population,s=.7,\n",
    "          cmap='YlGnBu_r', alpha=0.5)\n",
    "#create colorbar \n",
    "plt.colorbar(label=r'Price')\n",
    "plt.clim(300000, 4000000)\n",
    "matplotlib.use('nbagg')"
   ]
  },
  {
   "cell_type": "markdown",
   "metadata": {},
   "source": [
    "### Zipcode"
   ]
  },
  {
   "cell_type": "code",
   "execution_count": null,
   "metadata": {},
   "outputs": [],
   "source": [
    "plt.figure(figsize=(9,6))\n",
    "sns.boxplot( x=data[\"zipcode\"], y=data[\"price\"])\n",
    "plt.xlabel(\"\", fontsize=15)\n",
    "plt.ylabel(\"Price\", fontsize=15)\n",
    "plt.title(\"Box Plot of price as per Zipcode\", fontsize=20)"
   ]
  },
  {
   "cell_type": "markdown",
   "metadata": {},
   "source": [
    " # Model Building"
   ]
  },
  {
   "cell_type": "code",
   "execution_count": null,
   "metadata": {},
   "outputs": [],
   "source": [
    "# Taking Out the train and Validation data\n",
    "X_train = data[['sqft_living']]\n",
    "Y_train = data[['price']]\n",
    "X_val = val_data[['sqft_living']]\n",
    "Y_val = val_data[['price']]\n",
    "X_train = stm.add_constant(X_train)\n",
    "X_val = stm.add_constant(X_val)\n",
    "regr = LinearRegression()\n",
    "\n",
    "#Fitting the Model and Prediction\n",
    "regr.fit(X_train, Y_train)\n",
    "y_pred = regr.predict(X_val)"
   ]
  },
  {
   "cell_type": "code",
   "execution_count": null,
   "metadata": {},
   "outputs": [],
   "source": [
    "print('RMSE =',np.sqrt(np.mean((np.array(Y_val)-y_pred)**2))) #RMSE\n",
    "R2=r2_score(Y_val, y_pred)\n",
    "print('R square =',R2)\n",
    "p = len(X_val.columns) - 1\n",
    "n = len(X_val)\n",
    "print('Adjusted R Square =',1-(1-R2)*(n-1)/(n-p-1))"
   ]
  },
  {
   "cell_type": "code",
   "execution_count": null,
   "metadata": {},
   "outputs": [],
   "source": [
    "X_train = data[['sqft_living','bedrooms']]\n",
    "Y_train = data[['price']]\n",
    "X_val = val_data[['sqft_living','bedrooms']]\n",
    "Y_val = val_data[['price']]\n",
    "regr = LinearRegression() \n",
    "X_train = stm.add_constant(X_train)\n",
    "X_val = stm.add_constant(X_val)\n",
    "regr.fit(X_train, Y_train)\n",
    "y_pred = regr.predict(X_val)"
   ]
  },
  {
   "cell_type": "code",
   "execution_count": null,
   "metadata": {},
   "outputs": [],
   "source": [
    "print('RMSE =',np.sqrt(np.mean((np.array(Y_val)-y_pred)**2))) #RMSE\n",
    "R2=r2_score(Y_val, y_pred)\n",
    "print('R square =',R2)\n",
    "p = len(X_val.columns) - 1\n",
    "n = len(X_val)\n",
    "print('Adjusted R Square =',1-(1-R2)*(n-1)/(n-p-1))"
   ]
  },
  {
   "cell_type": "code",
   "execution_count": null,
   "metadata": {},
   "outputs": [],
   "source": [
    "X_train = data[['sqft_living','bedrooms','bathrooms']]\n",
    "Y_train = data[['price']]\n",
    "X_val = val_data[['sqft_living','bedrooms','bathrooms']]\n",
    "Y_val = val_data[['price']]\n",
    "regr = LinearRegression() \n",
    "X_train = stm.add_constant(X_train)\n",
    "X_val = stm.add_constant(X_val)\n",
    "regr.fit(X_train, Y_train)\n",
    "y_pred = regr.predict(X_val)"
   ]
  },
  {
   "cell_type": "code",
   "execution_count": null,
   "metadata": {},
   "outputs": [],
   "source": [
    "print('RMSE =',np.sqrt(np.mean((np.array(Y_val)-y_pred)**2))) #RMSE\n",
    "R2=r2_score(Y_val, y_pred)\n",
    "print('R square =',R2)\n",
    "p = len(X_val.columns) - 1\n",
    "n = len(X_val)\n",
    "print('Adjusted R Square =',1-(1-R2)*(n-1)/(n-p-1))\n",
    "#No Significant change is observed"
   ]
  },
  {
   "cell_type": "code",
   "execution_count": null,
   "metadata": {},
   "outputs": [],
   "source": [
    "X_train = data[['sqft_living','bedrooms','sqft_lot']]\n",
    "Y_train = data[['price']]\n",
    "X_val = val_data[['sqft_living','bedrooms','sqft_lot']]\n",
    "Y_val = val_data[['price']]\n",
    "regr = LinearRegression() \n",
    "X_train = stm.add_constant(X_train)\n",
    "X_val = stm.add_constant(X_val)\n",
    "regr.fit(X_train, Y_train)\n",
    "y_pred = regr.predict(X_val)"
   ]
  },
  {
   "cell_type": "code",
   "execution_count": null,
   "metadata": {},
   "outputs": [],
   "source": [
    "print('RMSE =',np.sqrt(np.mean((np.array(Y_val)-y_pred)**2))) #RMSE\n",
    "R2=r2_score(Y_val, y_pred)\n",
    "print('R square =',R2)\n",
    "p = len(X_val.columns) - 1\n",
    "n = len(X_val)\n",
    "print('Adjusted R Square =',1-(1-R2)*(n-1)/(n-p-1))\n",
    "#No Significant change is observed"
   ]
  },
  {
   "cell_type": "code",
   "execution_count": null,
   "metadata": {},
   "outputs": [],
   "source": [
    "X_train = data[['sqft_living','bedrooms','floors']]\n",
    "Y_train = data[['price']]\n",
    "X_val = val_data[['sqft_living','bedrooms','floors']]\n",
    "Y_val = val_data[['price']]\n",
    "regr = LinearRegression() \n",
    "X_train = stm.add_constant(X_train)\n",
    "X_val = stm.add_constant(X_val)\n",
    "regr.fit(X_train, Y_train)\n",
    "y_pred = regr.predict(X_val)"
   ]
  },
  {
   "cell_type": "code",
   "execution_count": null,
   "metadata": {},
   "outputs": [],
   "source": [
    "print('RMSE =',np.sqrt(np.mean((np.array(Y_val)-y_pred)**2))) #RMSE\n",
    "R2=r2_score(Y_val, y_pred)\n",
    "print('R square =',R2)\n",
    "p = len(X_val.columns) - 1\n",
    "n = len(X_val)\n",
    "print('Adjusted R Square =',1-(1-R2)*(n-1)/(n-p-1))\n",
    "#No Significant change is observed"
   ]
  },
  {
   "cell_type": "code",
   "execution_count": null,
   "metadata": {},
   "outputs": [],
   "source": [
    "X_train = data[['sqft_living','bedrooms','view']]\n",
    "Y_train = data[['price']]\n",
    "X_val = val_data[['sqft_living','bedrooms','view']]\n",
    "Y_val = val_data[['price']]\n",
    "regr = LinearRegression() \n",
    "X_train = stm.add_constant(X_train)\n",
    "X_val = stm.add_constant(X_val)\n",
    "regr.fit(X_train, Y_train)\n",
    "y_pred = regr.predict(X_val)"
   ]
  },
  {
   "cell_type": "code",
   "execution_count": null,
   "metadata": {},
   "outputs": [],
   "source": [
    "print('RMSE =',np.sqrt(np.mean((np.array(Y_val)-y_pred)**2))) #RMSE\n",
    "R2=r2_score(Y_val, y_pred)\n",
    "print('R square =',R2)\n",
    "p = len(X_val.columns) - 1\n",
    "n = len(X_val)\n",
    "print('Adjusted R Square =',1-(1-R2)*(n-1)/(n-p-1))"
   ]
  },
  {
   "cell_type": "code",
   "execution_count": null,
   "metadata": {},
   "outputs": [],
   "source": [
    "X_train = data[['sqft_living','bedrooms','view','grade']]\n",
    "Y_train = data[['price']]\n",
    "X_val = val_data[['sqft_living','bedrooms','view','grade']]\n",
    "Y_val = val_data[['price']]\n",
    "regr = LinearRegression() \n",
    "X_train = stm.add_constant(X_train)\n",
    "X_val = stm.add_constant(X_val)\n",
    "regr.fit(X_train, Y_train)\n",
    "y_pred = regr.predict(X_val)"
   ]
  },
  {
   "cell_type": "code",
   "execution_count": null,
   "metadata": {},
   "outputs": [],
   "source": [
    "print('RMSE =',np.sqrt(np.mean((np.array(Y_val)-y_pred)**2))) #RMSE\n",
    "R2=r2_score(Y_val, y_pred)\n",
    "print('R square =',R2)\n",
    "p = len(X_val.columns) - 1\n",
    "n = len(X_val)\n",
    "print('Adjusted R Square =',1-(1-R2)*(n-1)/(n-p-1))"
   ]
  },
  {
   "cell_type": "code",
   "execution_count": null,
   "metadata": {},
   "outputs": [],
   "source": [
    "X_train = data[['sqft_living','bedrooms','view','grade','sqft_above']]\n",
    "Y_train = data[['price']]\n",
    "X_val = val_data[['sqft_living','bedrooms','view','grade','sqft_above']]\n",
    "Y_val = val_data[['price']]\n",
    "regr = LinearRegression() \n",
    "X_train = stm.add_constant(X_train)\n",
    "X_val = stm.add_constant(X_val)\n",
    "regr.fit(X_train, Y_train)\n",
    "y_pred = regr.predict(X_val)\n",
    "#will again check in the end"
   ]
  },
  {
   "cell_type": "code",
   "execution_count": null,
   "metadata": {},
   "outputs": [],
   "source": [
    "print('RMSE =',np.sqrt(np.mean((np.array(Y_val)-y_pred)**2))) #RMSE\n",
    "R2=r2_score(Y_val, y_pred)\n",
    "print('R square =',R2)\n",
    "p = len(X_val.columns) - 1\n",
    "n = len(X_val)\n",
    "print('Adjusted R Square =',1-(1-R2)*(n-1)/(n-p-1))"
   ]
  },
  {
   "cell_type": "code",
   "execution_count": null,
   "metadata": {},
   "outputs": [],
   "source": [
    "X_train = data[['sqft_living','bedrooms','view','grade','sqft_above','sqft_basement']]\n",
    "Y_train = data[['price']]\n",
    "X_val = val_data[['sqft_living','bedrooms','view','grade','sqft_above','sqft_basement']]\n",
    "Y_val = val_data[['price']]\n",
    "regr = LinearRegression() \n",
    "X_train = stm.add_constant(X_train)\n",
    "X_val = stm.add_constant(X_val)\n",
    "regr.fit(X_train, Y_train)\n",
    "y_pred = regr.predict(X_val)"
   ]
  },
  {
   "cell_type": "code",
   "execution_count": null,
   "metadata": {},
   "outputs": [],
   "source": [
    "print('RMSE =',np.sqrt(np.mean((np.array(Y_val)-y_pred)**2))) #RMSE\n",
    "R2=r2_score(Y_val, y_pred)\n",
    "print('R square =',R2)\n",
    "p = len(X_val.columns) - 1\n",
    "n = len(X_val)\n",
    "print('Adjusted R Square =',1-(1-R2)*(n-1)/(n-p-1))\n",
    "#No Significant change is observed"
   ]
  },
  {
   "cell_type": "code",
   "execution_count": null,
   "metadata": {},
   "outputs": [],
   "source": [
    "X_train = data[['sqft_living','bedrooms','view','grade','sqft_above','yr_built']]\n",
    "Y_train = data[['price']]\n",
    "X_val = val_data[['sqft_living','bedrooms','view','grade','sqft_above','yr_built']]\n",
    "Y_val = val_data[['price']]\n",
    "regr = LinearRegression() \n",
    "X_train = stm.add_constant(X_train)\n",
    "X_val = stm.add_constant(X_val)\n",
    "regr.fit(X_train, Y_train)\n",
    "y_pred = regr.predict(X_val)"
   ]
  },
  {
   "cell_type": "code",
   "execution_count": null,
   "metadata": {},
   "outputs": [],
   "source": [
    "print('RMSE =',np.sqrt(np.mean((np.array(Y_val)-y_pred)**2))) #RMSE\n",
    "R2=r2_score(Y_val, y_pred)\n",
    "print('R square =',R2)\n",
    "p = len(X_val.columns) - 1\n",
    "n = len(X_val)\n",
    "print('Adjusted R Square =',1-(1-R2)*(n-1)/(n-p-1))"
   ]
  },
  {
   "cell_type": "markdown",
   "metadata": {},
   "source": [
    "### creating dummies for train data"
   ]
  },
  {
   "cell_type": "code",
   "execution_count": null,
   "metadata": {},
   "outputs": [],
   "source": [
    "waterfront_dummy=pd.get_dummies(data['waterfront'], prefix='waterfront',drop_first=True)\n",
    "zipcode_dummy=pd.get_dummies(data['zipcode'], prefix='zipcode',drop_first=True)\n",
    "condition_dummy = pd.get_dummies(data['condition'], prefix='condition',drop_first=True)\n",
    "year_renovated_dummy = pd.get_dummies(data['year_renovated'], prefix='year_renovated',drop_first=True)\n",
    "\n",
    "frames = [data,waterfront_dummy, zipcode_dummy, condition_dummy,year_renovated_dummy]\n",
    "data_dummy = pd.concat(frames, axis = 1)"
   ]
  },
  {
   "cell_type": "markdown",
   "metadata": {},
   "source": [
    "### creating dummies for  validation data"
   ]
  },
  {
   "cell_type": "code",
   "execution_count": null,
   "metadata": {},
   "outputs": [],
   "source": [
    "#adding year_renovated to validation data\n",
    "val_data['year_renovated']=np.where(val_data.yr_renovated !=0, 1, 0)\n",
    "\n",
    "val_waterfront_dummy=pd.get_dummies(val_data['waterfront'], prefix='waterfront',drop_first=True)\n",
    "val_zipcode_dummy=pd.get_dummies(val_data['zipcode'], prefix='zipcode',drop_first=True)\n",
    "val_condition_dummy = pd.get_dummies(val_data['condition'], prefix='condition',drop_first=True)\n",
    "val_year_renovated_dummy = pd.get_dummies(val_data['year_renovated'], prefix='year_renovated',drop_first=True)\n",
    "frames = [val_data,val_waterfront_dummy, val_zipcode_dummy, val_condition_dummy,val_year_renovated_dummy]\n",
    "val_data_dummy = pd.concat(frames, axis = 1)"
   ]
  },
  {
   "cell_type": "code",
   "execution_count": null,
   "metadata": {},
   "outputs": [],
   "source": [
    "#water front\n",
    "X_train = data_dummy[['sqft_living','bedrooms','view','grade','sqft_above','yr_built'\n",
    "                      ,'waterfront_1']]\n",
    "Y_train = data_dummy[['price']]\n",
    "X_val = val_data_dummy[['sqft_living','bedrooms','view','grade','sqft_above','yr_built'\n",
    "                        ,'waterfront_1']]\n",
    "Y_val = val_data_dummy[['price']]\n",
    "regr = LinearRegression() \n",
    "X_train = stm.add_constant(X_train)\n",
    "X_val = stm.add_constant(X_val)\n",
    "regr.fit(X_train, Y_train)\n",
    "y_pred = regr.predict(X_val)"
   ]
  },
  {
   "cell_type": "code",
   "execution_count": null,
   "metadata": {},
   "outputs": [],
   "source": [
    "print('RMSE =',np.sqrt(np.mean((np.array(Y_val)-y_pred)**2))) #RMSE\n",
    "R2=r2_score(Y_val, y_pred)\n",
    "print('R square =',R2)\n",
    "p = len(X_val.columns) - 1\n",
    "n = len(X_val)\n",
    "print('Adjusted R Square =',1-(1-R2)*(n-1)/(n-p-1))"
   ]
  },
  {
   "cell_type": "code",
   "execution_count": null,
   "metadata": {},
   "outputs": [],
   "source": [
    "#condition\n",
    "X_train = data_dummy[['sqft_living','bedrooms','view','grade','sqft_above','yr_built'\n",
    "                      ,'waterfront_1',\n",
    "       'condition_2', 'condition_3', 'condition_4', 'condition_5',]]\n",
    "Y_train = data_dummy[['price']]\n",
    "X_val = val_data_dummy[['sqft_living','bedrooms','view','grade','sqft_above','yr_built'\n",
    "                        ,'waterfront_1',\n",
    "       'condition_2', 'condition_3', 'condition_4', 'condition_5',]]\n",
    "Y_val = val_data_dummy[['price']]\n",
    "regr = LinearRegression() \n",
    "X_train = stm.add_constant(X_train)\n",
    "X_val = stm.add_constant(X_val)\n",
    "regr.fit(X_train, Y_train)\n",
    "y_pred = regr.predict(X_val)"
   ]
  },
  {
   "cell_type": "code",
   "execution_count": null,
   "metadata": {},
   "outputs": [],
   "source": [
    "print('RMSE =',np.sqrt(np.mean((np.array(Y_val)-y_pred)**2))) #RMSE\n",
    "R2=r2_score(Y_val, y_pred)\n",
    "print('R square =',R2)\n",
    "p = len(X_val.columns) - 1\n",
    "n = len(X_val)\n",
    "print('Adjusted R Square =',1-(1-R2)*(n-1)/(n-p-1))\n",
    "#No Significant change is observed"
   ]
  },
  {
   "cell_type": "code",
   "execution_count": null,
   "metadata": {},
   "outputs": [],
   "source": [
    "#zipcode\n",
    "X_train = data_dummy[['sqft_living','bedrooms','view','sqft_above','grade','yr_built'\n",
    "                      ,'waterfront_1',\n",
    "       'zipcode_98002', 'zipcode_98003', 'zipcode_98004', 'zipcode_98005',\n",
    "       'zipcode_98006', 'zipcode_98007', 'zipcode_98008', 'zipcode_98010',\n",
    "       'zipcode_98011', 'zipcode_98014', 'zipcode_98019', 'zipcode_98022',\n",
    "       'zipcode_98023', 'zipcode_98024', 'zipcode_98027', 'zipcode_98028',\n",
    "       'zipcode_98029', 'zipcode_98030', 'zipcode_98031', 'zipcode_98032',\n",
    "       'zipcode_98033', 'zipcode_98034', 'zipcode_98038', 'zipcode_98039',\n",
    "       'zipcode_98040', 'zipcode_98042', 'zipcode_98045', 'zipcode_98052',\n",
    "       'zipcode_98053', 'zipcode_98055', 'zipcode_98056', 'zipcode_98058',\n",
    "       'zipcode_98059', 'zipcode_98065', 'zipcode_98070', 'zipcode_98072',\n",
    "       'zipcode_98074', 'zipcode_98075', 'zipcode_98077', 'zipcode_98092',\n",
    "       'zipcode_98102', 'zipcode_98103', 'zipcode_98105', 'zipcode_98106',\n",
    "       'zipcode_98107', 'zipcode_98108', 'zipcode_98109', 'zipcode_98112',\n",
    "       'zipcode_98115', 'zipcode_98116', 'zipcode_98117', 'zipcode_98118',\n",
    "       'zipcode_98119', 'zipcode_98122', 'zipcode_98125', 'zipcode_98126',\n",
    "       'zipcode_98133', 'zipcode_98136', 'zipcode_98144', 'zipcode_98146',\n",
    "       'zipcode_98148', 'zipcode_98155', 'zipcode_98166', 'zipcode_98168',\n",
    "       'zipcode_98177', 'zipcode_98178', 'zipcode_98188', 'zipcode_98198',\n",
    "       'zipcode_98199']]\n",
    "Y_train = data_dummy[['price']]\n",
    "X_val = val_data_dummy[['sqft_living','bedrooms','view','sqft_above','grade','yr_built'\n",
    "                        ,'waterfront_1',\n",
    "       'zipcode_98002', 'zipcode_98003', 'zipcode_98004', 'zipcode_98005',\n",
    "       'zipcode_98006', 'zipcode_98007', 'zipcode_98008', 'zipcode_98010',\n",
    "       'zipcode_98011', 'zipcode_98014', 'zipcode_98019', 'zipcode_98022',\n",
    "       'zipcode_98023', 'zipcode_98024', 'zipcode_98027', 'zipcode_98028',\n",
    "       'zipcode_98029', 'zipcode_98030', 'zipcode_98031', 'zipcode_98032',\n",
    "       'zipcode_98033', 'zipcode_98034', 'zipcode_98038', 'zipcode_98039',\n",
    "       'zipcode_98040', 'zipcode_98042', 'zipcode_98045', 'zipcode_98052',\n",
    "       'zipcode_98053', 'zipcode_98055', 'zipcode_98056', 'zipcode_98058',\n",
    "       'zipcode_98059', 'zipcode_98065', 'zipcode_98070', 'zipcode_98072',\n",
    "       'zipcode_98074', 'zipcode_98075', 'zipcode_98077', 'zipcode_98092',\n",
    "       'zipcode_98102', 'zipcode_98103', 'zipcode_98105', 'zipcode_98106',\n",
    "       'zipcode_98107', 'zipcode_98108', 'zipcode_98109', 'zipcode_98112',\n",
    "       'zipcode_98115', 'zipcode_98116', 'zipcode_98117', 'zipcode_98118',\n",
    "       'zipcode_98119', 'zipcode_98122', 'zipcode_98125', 'zipcode_98126',\n",
    "       'zipcode_98133', 'zipcode_98136', 'zipcode_98144', 'zipcode_98146',\n",
    "       'zipcode_98148', 'zipcode_98155', 'zipcode_98166', 'zipcode_98168',\n",
    "       'zipcode_98177', 'zipcode_98178', 'zipcode_98188', 'zipcode_98198',\n",
    "       'zipcode_98199']]\n",
    "Y_val = val_data_dummy[['price']]\n",
    "regr = LinearRegression() \n",
    "X_train = stm.add_constant(X_train)\n",
    "X_val = stm.add_constant(X_val)\n",
    "regr.fit(X_train, Y_train)\n",
    "y_pred = regr.predict(X_val)"
   ]
  },
  {
   "cell_type": "code",
   "execution_count": null,
   "metadata": {},
   "outputs": [],
   "source": [
    "print('RMSE =',np.sqrt(np.mean((np.array(Y_val)-y_pred)**2))) #RMSE\n",
    "R2=r2_score(Y_val, y_pred)\n",
    "print('R square =',R2)\n",
    "p = len(X_val.columns) - 1\n",
    "n = len(X_val)\n",
    "print('Adjusted R Square =',1-(1-R2)*(n-1)/(n-p-1))\n",
    "#No Significant change is observed"
   ]
  },
  {
   "cell_type": "code",
   "execution_count": null,
   "metadata": {},
   "outputs": [],
   "source": [
    "#year_renovated\n",
    "X_train = data_dummy[['sqft_living','bedrooms','view','sqft_above','grade','yr_built'\n",
    "                      ,'waterfront_1',\n",
    "       'zipcode_98002', 'zipcode_98003', 'zipcode_98004', 'zipcode_98005',\n",
    "       'zipcode_98006', 'zipcode_98007', 'zipcode_98008', 'zipcode_98010',\n",
    "       'zipcode_98011', 'zipcode_98014', 'zipcode_98019', 'zipcode_98022',\n",
    "       'zipcode_98023', 'zipcode_98024', 'zipcode_98027', 'zipcode_98028',\n",
    "       'zipcode_98029', 'zipcode_98030', 'zipcode_98031', 'zipcode_98032',\n",
    "       'zipcode_98033', 'zipcode_98034', 'zipcode_98038', 'zipcode_98039',\n",
    "       'zipcode_98040', 'zipcode_98042', 'zipcode_98045', 'zipcode_98052',\n",
    "       'zipcode_98053', 'zipcode_98055', 'zipcode_98056', 'zipcode_98058',\n",
    "       'zipcode_98059', 'zipcode_98065', 'zipcode_98070', 'zipcode_98072',\n",
    "       'zipcode_98074', 'zipcode_98075', 'zipcode_98077', 'zipcode_98092',\n",
    "       'zipcode_98102', 'zipcode_98103', 'zipcode_98105', 'zipcode_98106',\n",
    "       'zipcode_98107', 'zipcode_98108', 'zipcode_98109', 'zipcode_98112',\n",
    "       'zipcode_98115', 'zipcode_98116', 'zipcode_98117', 'zipcode_98118',\n",
    "       'zipcode_98119', 'zipcode_98122', 'zipcode_98125', 'zipcode_98126',\n",
    "       'zipcode_98133', 'zipcode_98136', 'zipcode_98144', 'zipcode_98146',\n",
    "       'zipcode_98148', 'zipcode_98155', 'zipcode_98166', 'zipcode_98168',\n",
    "       'zipcode_98177', 'zipcode_98178', 'zipcode_98188', 'zipcode_98198',\n",
    "       'zipcode_98199','year_renovated_1']]\n",
    "Y_train = data_dummy[['price']]\n",
    "X_val = val_data_dummy[['sqft_living','bedrooms','view','sqft_above','grade','yr_built'\n",
    "                        ,'waterfront_1',\n",
    "       'zipcode_98002', 'zipcode_98003', 'zipcode_98004', 'zipcode_98005',\n",
    "       'zipcode_98006', 'zipcode_98007', 'zipcode_98008', 'zipcode_98010',\n",
    "       'zipcode_98011', 'zipcode_98014', 'zipcode_98019', 'zipcode_98022',\n",
    "       'zipcode_98023', 'zipcode_98024', 'zipcode_98027', 'zipcode_98028',\n",
    "       'zipcode_98029', 'zipcode_98030', 'zipcode_98031', 'zipcode_98032',\n",
    "       'zipcode_98033', 'zipcode_98034', 'zipcode_98038', 'zipcode_98039',\n",
    "       'zipcode_98040', 'zipcode_98042', 'zipcode_98045', 'zipcode_98052',\n",
    "       'zipcode_98053', 'zipcode_98055', 'zipcode_98056', 'zipcode_98058',\n",
    "       'zipcode_98059', 'zipcode_98065', 'zipcode_98070', 'zipcode_98072',\n",
    "       'zipcode_98074', 'zipcode_98075', 'zipcode_98077', 'zipcode_98092',\n",
    "       'zipcode_98102', 'zipcode_98103', 'zipcode_98105', 'zipcode_98106',\n",
    "       'zipcode_98107', 'zipcode_98108', 'zipcode_98109', 'zipcode_98112',\n",
    "       'zipcode_98115', 'zipcode_98116', 'zipcode_98117', 'zipcode_98118',\n",
    "       'zipcode_98119', 'zipcode_98122', 'zipcode_98125', 'zipcode_98126',\n",
    "       'zipcode_98133', 'zipcode_98136', 'zipcode_98144', 'zipcode_98146',\n",
    "       'zipcode_98148', 'zipcode_98155', 'zipcode_98166', 'zipcode_98168',\n",
    "       'zipcode_98177', 'zipcode_98178', 'zipcode_98188', 'zipcode_98198',\n",
    "       'zipcode_98199','year_renovated_1']]\n",
    "Y_val = val_data_dummy[['price']]\n",
    "regr = LinearRegression() \n",
    "X_train = stm.add_constant(X_train)\n",
    "X_val = stm.add_constant(X_val)\n",
    "regr.fit(X_train, Y_train)\n",
    "y_pred = regr.predict(X_val)"
   ]
  },
  {
   "cell_type": "code",
   "execution_count": null,
   "metadata": {},
   "outputs": [],
   "source": [
    "print('RMSE =',np.sqrt(np.mean((np.array(Y_val)-y_pred)**2))) #RMSE\n",
    "R2=r2_score(Y_val, y_pred)\n",
    "print('R square =',R2)\n",
    "p = len(X_val.columns) - 1\n",
    "n = len(X_val)\n",
    "print('Adjusted R Square =',1-(1-R2)*(n-1)/(n-p-1))\n",
    "#No Significant change is observed"
   ]
  },
  {
   "cell_type": "code",
   "execution_count": null,
   "metadata": {},
   "outputs": [],
   "source": [
    "#final model as per accuracy on validation data\n",
    "X_train = data_dummy[['sqft_living','floors','yr_built','yr_renovated'\n",
    "                        ,'bathrooms','grade','sqft_above','bedrooms'\n",
    "                        ,'waterfront_1','view',\n",
    "       'condition_2', 'condition_3', 'condition_4', 'condition_5',\n",
    "       'zipcode_98002', 'zipcode_98003', 'zipcode_98004', 'zipcode_98005',\n",
    "       'zipcode_98006', 'zipcode_98007', 'zipcode_98008', 'zipcode_98010',\n",
    "       'zipcode_98011', 'zipcode_98014', 'zipcode_98019', 'zipcode_98022',\n",
    "       'zipcode_98023', 'zipcode_98024', 'zipcode_98027', 'zipcode_98028',\n",
    "       'zipcode_98029', 'zipcode_98030', 'zipcode_98031', 'zipcode_98032',\n",
    "       'zipcode_98033', 'zipcode_98034', 'zipcode_98038', 'zipcode_98039',\n",
    "       'zipcode_98040', 'zipcode_98042', 'zipcode_98045', 'zipcode_98052',\n",
    "       'zipcode_98053', 'zipcode_98055', 'zipcode_98056', 'zipcode_98058',\n",
    "       'zipcode_98059', 'zipcode_98065', 'zipcode_98070', 'zipcode_98072',\n",
    "       'zipcode_98074', 'zipcode_98075', 'zipcode_98077', 'zipcode_98092',\n",
    "       'zipcode_98102', 'zipcode_98103', 'zipcode_98105', 'zipcode_98106',\n",
    "       'zipcode_98107', 'zipcode_98108', 'zipcode_98109', 'zipcode_98112',\n",
    "       'zipcode_98115', 'zipcode_98116', 'zipcode_98117', 'zipcode_98118',\n",
    "       'zipcode_98119', 'zipcode_98122', 'zipcode_98125', 'zipcode_98126',\n",
    "       'zipcode_98133', 'zipcode_98136', 'zipcode_98144', 'zipcode_98146',\n",
    "       'zipcode_98148', 'zipcode_98155', 'zipcode_98166', 'zipcode_98168',\n",
    "       'zipcode_98177', 'zipcode_98178', 'zipcode_98188', 'zipcode_98198',\n",
    "       'zipcode_98199']]\n",
    "Y_train = data_dummy[['price']]\n",
    "X_val = val_data_dummy[['sqft_living','floors','yr_built','yr_renovated'\n",
    "                        ,'bathrooms','grade','sqft_above','bedrooms'\n",
    "                        ,'waterfront_1','view',\n",
    "       'condition_2', 'condition_3', 'condition_4', 'condition_5',\n",
    "       'zipcode_98002', 'zipcode_98003', 'zipcode_98004', 'zipcode_98005',\n",
    "       'zipcode_98006', 'zipcode_98007', 'zipcode_98008', 'zipcode_98010',\n",
    "       'zipcode_98011', 'zipcode_98014', 'zipcode_98019', 'zipcode_98022',\n",
    "       'zipcode_98023', 'zipcode_98024', 'zipcode_98027', 'zipcode_98028',\n",
    "       'zipcode_98029', 'zipcode_98030', 'zipcode_98031', 'zipcode_98032',\n",
    "       'zipcode_98033', 'zipcode_98034', 'zipcode_98038', 'zipcode_98039',\n",
    "       'zipcode_98040', 'zipcode_98042', 'zipcode_98045', 'zipcode_98052',\n",
    "       'zipcode_98053', 'zipcode_98055', 'zipcode_98056', 'zipcode_98058',\n",
    "       'zipcode_98059', 'zipcode_98065', 'zipcode_98070', 'zipcode_98072',\n",
    "       'zipcode_98074', 'zipcode_98075', 'zipcode_98077', 'zipcode_98092',\n",
    "       'zipcode_98102', 'zipcode_98103', 'zipcode_98105', 'zipcode_98106',\n",
    "       'zipcode_98107', 'zipcode_98108', 'zipcode_98109', 'zipcode_98112',\n",
    "       'zipcode_98115', 'zipcode_98116', 'zipcode_98117', 'zipcode_98118',\n",
    "       'zipcode_98119', 'zipcode_98122', 'zipcode_98125', 'zipcode_98126',\n",
    "       'zipcode_98133', 'zipcode_98136', 'zipcode_98144', 'zipcode_98146',\n",
    "       'zipcode_98148', 'zipcode_98155', 'zipcode_98166', 'zipcode_98168',\n",
    "       'zipcode_98177', 'zipcode_98178', 'zipcode_98188', 'zipcode_98198',\n",
    "       'zipcode_98199']]\n",
    "Y_val = val_data_dummy[['price']]\n",
    "regr = LinearRegression() \n",
    "X_train = stm.add_constant(X_train)\n",
    "X_val = stm.add_constant(X_val)\n",
    "regr.fit(X_train, Y_train)\n",
    "y_pred = regr.predict(X_val)\n",
    "\n",
    "\n",
    "\n",
    "\n"
   ]
  },
  {
   "cell_type": "code",
   "execution_count": null,
   "metadata": {},
   "outputs": [],
   "source": [
    "print('RMSE =',np.sqrt(np.mean((np.array(Y_val)-y_pred)**2))) #RMSE\n",
    "R2=r2_score(Y_val, y_pred)\n",
    "print('R square =',R2)\n",
    "p = len(X_val.columns) - 1\n",
    "n = len(X_val)\n",
    "print('Adjusted R Square =',1-(1-R2)*(n-1)/(n-p-1))"
   ]
  },
  {
   "cell_type": "markdown",
   "metadata": {},
   "source": [
    "## test data"
   ]
  },
  {
   "cell_type": "code",
   "execution_count": null,
   "metadata": {},
   "outputs": [],
   "source": [
    "test_data = pd.read_csv(r'D:\\study\\gourabsir\\assignment\\wk3_kc_house_test_data.csv')"
   ]
  },
  {
   "cell_type": "code",
   "execution_count": null,
   "metadata": {},
   "outputs": [],
   "source": [
    "test_waterfront_dummy=pd.get_dummies(test_data['waterfront'], prefix='waterfront',drop_first=True)\n",
    "test_zipcode_dummy=pd.get_dummies(test_data['zipcode'], prefix='zipcode',drop_first=True)\n",
    "test_condition_dummy = pd.get_dummies(test_data['condition'], prefix='condition',drop_first=True)\n",
    "frames = [test_data,test_waterfront_dummy, test_zipcode_dummy, test_condition_dummy]\n",
    "test_data_dummy = pd.concat(frames, axis = 1)"
   ]
  },
  {
   "cell_type": "code",
   "execution_count": null,
   "metadata": {},
   "outputs": [],
   "source": [
    "#Validating Model on Test Data\n",
    "X_train = data_dummy[['sqft_living','floors','yr_built','yr_renovated'\n",
    "                        ,'bathrooms','grade','sqft_above','bedrooms'\n",
    "                        ,'waterfront_1','view',\n",
    "       'condition_2', 'condition_3', 'condition_4', 'condition_5',\n",
    "       'zipcode_98002', 'zipcode_98003', 'zipcode_98004', 'zipcode_98005',\n",
    "       'zipcode_98006', 'zipcode_98007', 'zipcode_98008', 'zipcode_98010',\n",
    "       'zipcode_98011', 'zipcode_98014', 'zipcode_98019', 'zipcode_98022',\n",
    "       'zipcode_98023', 'zipcode_98024', 'zipcode_98027', 'zipcode_98028',\n",
    "       'zipcode_98029', 'zipcode_98030', 'zipcode_98031', 'zipcode_98032',\n",
    "       'zipcode_98033', 'zipcode_98034', 'zipcode_98038', 'zipcode_98039',\n",
    "       'zipcode_98040', 'zipcode_98042', 'zipcode_98045', 'zipcode_98052',\n",
    "       'zipcode_98053', 'zipcode_98055', 'zipcode_98056', 'zipcode_98058',\n",
    "       'zipcode_98059', 'zipcode_98065', 'zipcode_98070', 'zipcode_98072',\n",
    "       'zipcode_98074', 'zipcode_98075', 'zipcode_98077', 'zipcode_98092',\n",
    "       'zipcode_98102', 'zipcode_98103', 'zipcode_98105', 'zipcode_98106',\n",
    "       'zipcode_98107', 'zipcode_98108', 'zipcode_98109', 'zipcode_98112',\n",
    "       'zipcode_98115', 'zipcode_98116', 'zipcode_98117', 'zipcode_98118',\n",
    "       'zipcode_98119', 'zipcode_98122', 'zipcode_98125', 'zipcode_98126',\n",
    "       'zipcode_98133', 'zipcode_98136', 'zipcode_98144', 'zipcode_98146',\n",
    "       'zipcode_98148', 'zipcode_98155', 'zipcode_98166', 'zipcode_98168',\n",
    "       'zipcode_98177', 'zipcode_98178', 'zipcode_98188', 'zipcode_98198',\n",
    "       'zipcode_98199']]\n",
    "Y_train = data_dummy[['price']]\n",
    "X_val = test_data_dummy[['sqft_living','floors','yr_built','yr_renovated'\n",
    "                        ,'bathrooms','grade','sqft_above','bedrooms'\n",
    "                        ,'waterfront_1','view',\n",
    "       'condition_2', 'condition_3', 'condition_4', 'condition_5',\n",
    "       'zipcode_98002', 'zipcode_98003', 'zipcode_98004', 'zipcode_98005',\n",
    "       'zipcode_98006', 'zipcode_98007', 'zipcode_98008', 'zipcode_98010',\n",
    "       'zipcode_98011', 'zipcode_98014', 'zipcode_98019', 'zipcode_98022',\n",
    "       'zipcode_98023', 'zipcode_98024', 'zipcode_98027', 'zipcode_98028',\n",
    "       'zipcode_98029', 'zipcode_98030', 'zipcode_98031', 'zipcode_98032',\n",
    "       'zipcode_98033', 'zipcode_98034', 'zipcode_98038', 'zipcode_98039',\n",
    "       'zipcode_98040', 'zipcode_98042', 'zipcode_98045', 'zipcode_98052',\n",
    "       'zipcode_98053', 'zipcode_98055', 'zipcode_98056', 'zipcode_98058',\n",
    "       'zipcode_98059', 'zipcode_98065', 'zipcode_98070', 'zipcode_98072',\n",
    "       'zipcode_98074', 'zipcode_98075', 'zipcode_98077', 'zipcode_98092',\n",
    "       'zipcode_98102', 'zipcode_98103', 'zipcode_98105', 'zipcode_98106',\n",
    "       'zipcode_98107', 'zipcode_98108', 'zipcode_98109', 'zipcode_98112',\n",
    "       'zipcode_98115', 'zipcode_98116', 'zipcode_98117', 'zipcode_98118',\n",
    "       'zipcode_98119', 'zipcode_98122', 'zipcode_98125', 'zipcode_98126',\n",
    "       'zipcode_98133', 'zipcode_98136', 'zipcode_98144', 'zipcode_98146',\n",
    "       'zipcode_98148', 'zipcode_98155', 'zipcode_98166', 'zipcode_98168',\n",
    "       'zipcode_98177', 'zipcode_98178', 'zipcode_98188', 'zipcode_98198',\n",
    "       'zipcode_98199']]\n",
    "Y_val = test_data_dummy[['price']]\n",
    "regr = LinearRegression() \n",
    "X_train = stm.add_constant(X_train)\n",
    "X_val = stm.add_constant(X_val)\n",
    "regr.fit(X_train, Y_train)\n",
    "y_pred = regr.predict(X_val)"
   ]
  },
  {
   "cell_type": "code",
   "execution_count": null,
   "metadata": {},
   "outputs": [],
   "source": [
    "print('RMSE =',np.sqrt(np.mean((np.array(Y_val)-y_pred)**2))) #RMSE\n",
    "R2=r2_score(Y_val, y_pred)\n",
    "print('R square =',R2)\n",
    "p = len(X_val.columns) - 1\n",
    "n = len(X_val)\n",
    "print('Adjusted R Square =',1-(1-R2)*(n-1)/(n-p-1))"
   ]
  }
 ],
 "metadata": {
  "kernelspec": {
   "display_name": "Python 3",
   "language": "python",
   "name": "python3"
  },
  "language_info": {
   "codemirror_mode": {
    "name": "ipython",
    "version": 3
   },
   "file_extension": ".py",
   "mimetype": "text/x-python",
   "name": "python",
   "nbconvert_exporter": "python",
   "pygments_lexer": "ipython3",
   "version": "3.7.6"
  }
 },
 "nbformat": 4,
 "nbformat_minor": 2
}
